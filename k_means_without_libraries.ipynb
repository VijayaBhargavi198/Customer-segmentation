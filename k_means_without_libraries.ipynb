{
  "nbformat": 4,
  "nbformat_minor": 0,
  "metadata": {
    "colab": {
      "name": "k-means without libraries.ipynb",
      "provenance": [],
      "authorship_tag": "ABX9TyPI7svZJfw2Y1fKd1/6ps8y",
      "include_colab_link": true
    },
    "kernelspec": {
      "name": "python3",
      "display_name": "Python 3"
    },
    "language_info": {
      "name": "python"
    }
  },
  "cells": [
    {
      "cell_type": "markdown",
      "metadata": {
        "id": "view-in-github",
        "colab_type": "text"
      },
      "source": [
        "<a href=\"https://colab.research.google.com/github/VijayaBhargavi198/Customer-segmentation/blob/main/k_means_without_libraries.ipynb\" target=\"_parent\"><img src=\"https://colab.research.google.com/assets/colab-badge.svg\" alt=\"Open In Colab\"/></a>"
      ]
    },
    {
      "cell_type": "code",
      "metadata": {
        "id": "pVGoDAaj-6yL"
      },
      "source": [
        "import pandas as pd\n",
        "import numpy as np\n",
        "import seaborn as sns\n",
        "from matplotlib import pyplot"
      ],
      "execution_count": null,
      "outputs": []
    },
    {
      "cell_type": "code",
      "metadata": {
        "id": "OsAt1kyd_TzG"
      },
      "source": [
        "\n",
        "#reading the dataset as CSV file, dataset is taken from kaggle\n",
        "customers_df = pd.read_csv('Mall_Customers.csv')"
      ],
      "execution_count": null,
      "outputs": []
    },
    {
      "cell_type": "code",
      "metadata": {
        "id": "ZnI2f3NA_pxX",
        "colab": {
          "base_uri": "https://localhost:8080/",
          "height": 293
        },
        "outputId": "94908092-bd71-46c7-e315-9c36cc181ef7"
      },
      "source": [
        "customers_df.describe()"
      ],
      "execution_count": null,
      "outputs": [
        {
          "output_type": "execute_result",
          "data": {
            "text/html": [
              "<div>\n",
              "<style scoped>\n",
              "    .dataframe tbody tr th:only-of-type {\n",
              "        vertical-align: middle;\n",
              "    }\n",
              "\n",
              "    .dataframe tbody tr th {\n",
              "        vertical-align: top;\n",
              "    }\n",
              "\n",
              "    .dataframe thead th {\n",
              "        text-align: right;\n",
              "    }\n",
              "</style>\n",
              "<table border=\"1\" class=\"dataframe\">\n",
              "  <thead>\n",
              "    <tr style=\"text-align: right;\">\n",
              "      <th></th>\n",
              "      <th>CustomerID</th>\n",
              "      <th>Age</th>\n",
              "      <th>Annual Income (k$)</th>\n",
              "      <th>Spending Score (1-100)</th>\n",
              "    </tr>\n",
              "  </thead>\n",
              "  <tbody>\n",
              "    <tr>\n",
              "      <th>count</th>\n",
              "      <td>200.000000</td>\n",
              "      <td>200.000000</td>\n",
              "      <td>200.000000</td>\n",
              "      <td>200.000000</td>\n",
              "    </tr>\n",
              "    <tr>\n",
              "      <th>mean</th>\n",
              "      <td>100.500000</td>\n",
              "      <td>38.850000</td>\n",
              "      <td>60.560000</td>\n",
              "      <td>50.200000</td>\n",
              "    </tr>\n",
              "    <tr>\n",
              "      <th>std</th>\n",
              "      <td>57.879185</td>\n",
              "      <td>13.969007</td>\n",
              "      <td>26.264721</td>\n",
              "      <td>25.823522</td>\n",
              "    </tr>\n",
              "    <tr>\n",
              "      <th>min</th>\n",
              "      <td>1.000000</td>\n",
              "      <td>18.000000</td>\n",
              "      <td>15.000000</td>\n",
              "      <td>1.000000</td>\n",
              "    </tr>\n",
              "    <tr>\n",
              "      <th>25%</th>\n",
              "      <td>50.750000</td>\n",
              "      <td>28.750000</td>\n",
              "      <td>41.500000</td>\n",
              "      <td>34.750000</td>\n",
              "    </tr>\n",
              "    <tr>\n",
              "      <th>50%</th>\n",
              "      <td>100.500000</td>\n",
              "      <td>36.000000</td>\n",
              "      <td>61.500000</td>\n",
              "      <td>50.000000</td>\n",
              "    </tr>\n",
              "    <tr>\n",
              "      <th>75%</th>\n",
              "      <td>150.250000</td>\n",
              "      <td>49.000000</td>\n",
              "      <td>78.000000</td>\n",
              "      <td>73.000000</td>\n",
              "    </tr>\n",
              "    <tr>\n",
              "      <th>max</th>\n",
              "      <td>200.000000</td>\n",
              "      <td>70.000000</td>\n",
              "      <td>137.000000</td>\n",
              "      <td>99.000000</td>\n",
              "    </tr>\n",
              "  </tbody>\n",
              "</table>\n",
              "</div>"
            ],
            "text/plain": [
              "       CustomerID         Age  Annual Income (k$)  Spending Score (1-100)\n",
              "count  200.000000  200.000000          200.000000              200.000000\n",
              "mean   100.500000   38.850000           60.560000               50.200000\n",
              "std     57.879185   13.969007           26.264721               25.823522\n",
              "min      1.000000   18.000000           15.000000                1.000000\n",
              "25%     50.750000   28.750000           41.500000               34.750000\n",
              "50%    100.500000   36.000000           61.500000               50.000000\n",
              "75%    150.250000   49.000000           78.000000               73.000000\n",
              "max    200.000000   70.000000          137.000000               99.000000"
            ]
          },
          "metadata": {
            "tags": []
          },
          "execution_count": 14
        }
      ]
    },
    {
      "cell_type": "code",
      "metadata": {
        "id": "zmk9NYB1eaX5"
      },
      "source": [
        "cluster_data = customers_df[['Age','Spending Score (1-100)']]\n",
        "X = cluster_data['Age']\n",
        "Y = cluster_data['Spending Score (1-100)']"
      ],
      "execution_count": null,
      "outputs": []
    },
    {
      "cell_type": "code",
      "metadata": {
        "id": "RcrEAWKcpOci"
      },
      "source": [
        "import random\n",
        "import math\n",
        "#choosing random centroids from the dataset\n",
        "def random_centroids(number_of_centroids, dataset_size):\n",
        "    x_value = list()\n",
        "    y_value = list()\n",
        "\n",
        "    for i in range(number_of_centroids):\n",
        "        j = random.randint(1, dataset_size-1)\n",
        "        x_value.append(X[j])\n",
        "        y_value.append(Y[j]) \n",
        "    centroids = {\"x\": x_value, \"y\":y_value}\n",
        "    return centroids\n",
        "\n",
        "# function for centroid definition\n",
        "number_of_centroids = 5\n",
        "centroids = random_centroids(number_of_centroids, len(X))\n",
        "\n",
        "# This function to calculate the eucledian distance from each point to each centroid \n",
        "def distance_from_centroids(centroid, point_x, point_y):\n",
        "    centroid_distances = dict()\n",
        "    def eucledian_distance(x1, y1, x2, y2):\n",
        "     return math.sqrt(pow((x1-x2),2) + pow((y1-y2),2))\n",
        "    for i in range(len(centroid[\"x\"])):         \n",
        "        centroid_distances[i] = [eucledian_distance(centroid[\"x\"][i], centroid[\"y\"][i], point_x[j], point_y[j]) for j in range(len(X)) ]\n",
        "    return centroid_distances\n",
        "\n",
        "\n",
        "# This function takes the mean distance of each cluster's points\n",
        "def mean_distance(df, x, y):\n",
        "    return df.groupby(\"cluster\").mean()[[\"x\", \"y\"]]\n",
        "\n",
        "#The main kmeans function\n",
        "def kmeans(centroids, x, y):\n",
        "    difference = 1\n",
        "    i = 0\n",
        "    while (difference!=0):\n",
        "        centroid_distances = distance_from_centroids(centroids, x, y)\n",
        "        df = pd.DataFrame()\n",
        "        df.iloc[0:0]\n",
        "        df = pd.DataFrame(distance_from_centroids(centroids, X, y))\n",
        "        df['cluster'] = df.idxmin(axis=1)\n",
        "        df[\"x\"] = x\n",
        "        df[\"y\"] = y\n",
        "        new_centroids = mean_distance(df, x, y) \n",
        "        difference = (new_centroids[\"x\"] - centroids[\"x\"]).sum() + (new_centroids[\"y\"] - centroids[\"y\"]).sum()\n",
        "        centroids = new_centroids\n",
        "        i+=1\n",
        "        \n",
        "    return df"
      ],
      "execution_count": null,
      "outputs": []
    },
    {
      "cell_type": "code",
      "metadata": {
        "colab": {
          "base_uri": "https://localhost:8080/",
          "height": 569
        },
        "id": "E7dfxtLHcCfN",
        "outputId": "6c37ad3f-7ab8-44f5-8c76-4c462f567362"
      },
      "source": [
        "# This is for plotting the final clustering\n",
        "df_new = kmeans(centroids, X, Y)\n",
        "pyplot.figure(figsize=(8, 8))\n",
        "sns.scatterplot(df_new['x'], df_new['y'], hue=df_new['cluster'], palette=[\"blue\",'red','black', \"green\", \"orange\"], s=70)"
      ],
      "execution_count": null,
      "outputs": [
        {
          "output_type": "stream",
          "text": [
            "/usr/local/lib/python3.7/dist-packages/seaborn/_decorators.py:43: FutureWarning: Pass the following variables as keyword args: x, y. From version 0.12, the only valid positional argument will be `data`, and passing other arguments without an explicit keyword will result in an error or misinterpretation.\n",
            "  FutureWarning\n"
          ],
          "name": "stderr"
        },
        {
          "output_type": "execute_result",
          "data": {
            "text/plain": [
              "<matplotlib.axes._subplots.AxesSubplot at 0x7f65466744d0>"
            ]
          },
          "metadata": {
            "tags": []
          },
          "execution_count": 35
        },
        {
          "output_type": "display_data",
          "data": {
            "image/png": "[encoded data removed]",
            "text/plain": [
              "<Figure size 576x576 with 1 Axes>"
            ]
          },
          "metadata": {
            "tags": [],
            "needs_background": "light"
          }
        }
      ]
    },
    {
      "cell_type": "code",
      "metadata": {
        "id": "-wc8IZ9ueu2G"
      },
      "source": [
        ""
      ],
      "execution_count": null,
      "outputs": []
    }
  ]
}